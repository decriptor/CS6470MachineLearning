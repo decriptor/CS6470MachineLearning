{
 "cells": [
  {
   "cell_type": "code",
   "execution_count": 34,
   "metadata": {},
   "outputs": [],
   "source": [
    "import numpy as np\n",
    "import pandas as pd\n",
    "\n",
    "from sklearn.model_selection import train_test_split\n",
    "from sklearn.metrics import r2_score"
   ]
  },
  {
   "cell_type": "code",
   "execution_count": 35,
   "metadata": {},
   "outputs": [],
   "source": [
    "wine_quality_red = pd.read_csv(\"winequality/winequality-red.csv\", sep=';')\n",
    "wine_quality_red.rename(columns=lambda x: x.replace(\" \", \"_\"),inplace=True)"
   ]
  },
  {
   "cell_type": "markdown",
   "metadata": {},
   "source": [
    "# Split into train and test using 70% - 30% rule:"
   ]
  },
  {
   "cell_type": "code",
   "execution_count": 36,
   "metadata": {},
   "outputs": [
    {
     "name": "stderr",
     "output_type": "stream",
     "text": [
      "c:\\python37\\lib\\site-packages\\sklearn\\model_selection\\_split.py:2026: FutureWarning: From version 0.21, test_size will always complement train_size unless both are specified.\n",
      "  FutureWarning)\n"
     ]
    }
   ],
   "source": [
    "x_train, x_test, y_train, y_test = train_test_split (wine_quality_red ['alcohol'], wine_quality_red[\"quality\"], train_size = 0.7, random_state=42)"
   ]
  },
  {
   "cell_type": "markdown",
   "metadata": {},
   "source": [
    "# Convert back into pandas DataFrame"
   ]
  },
  {
   "cell_type": "code",
   "execution_count": 37,
   "metadata": {},
   "outputs": [],
   "source": [
    "x_train = pd.DataFrame(x_train); x_test = pd.DataFrame(x_test)\n",
    "y_train = pd.DataFrame(y_train); y_test = pd.DataFrame(y_test)"
   ]
  },
  {
   "cell_type": "code",
   "execution_count": 38,
   "metadata": {},
   "outputs": [],
   "source": [
    "# Independent 'alcohol'\n",
    "# Dependent 'quality'"
   ]
  },
  {
   "cell_type": "markdown",
   "metadata": {},
   "source": [
    "# Calculate the mean from the columns of the DataFrame"
   ]
  },
  {
   "cell_type": "code",
   "execution_count": 39,
   "metadata": {},
   "outputs": [],
   "source": [
    "def mean (values):\n",
    "    return round (sum (values) / float (len (values)), 2)\n",
    "alcohol_mean = mean (x_train['alcohol'])\n",
    "quality_mean = mean (y_train['quality'])"
   ]
  },
  {
   "cell_type": "markdown",
   "metadata": {},
   "source": [
    "# Variance and covariance for calculating the coefficients of the regression model"
   ]
  },
  {
   "cell_type": "code",
   "execution_count": 40,
   "metadata": {},
   "outputs": [],
   "source": [
    "alcohol_variance = round (sum ((x_train['alcohol'] - alcohol_mean)**2), 2)\n",
    "quality_variance = round (sum ((y_train['quality'] - quality_mean)**2), 2)"
   ]
  },
  {
   "cell_type": "code",
   "execution_count": 41,
   "metadata": {},
   "outputs": [
    {
     "name": "stdout",
     "output_type": "stream",
     "text": [
      "\n",
      "\n",
      "Intercept (B0): 1.6918 Co-efficient (B1): 0.377\n"
     ]
    }
   ],
   "source": [
    "covariance = round (sum ((x_train['alcohol'] - alcohol_mean) * (y_train['quality'] - quality_mean)), 2)\n",
    "b1 = covariance/alcohol_variance\n",
    "b0 = quality_mean - b1 * alcohol_mean\n",
    "print (\"\\n\\nIntercept (B0):\", round(b0,4), \"Co-efficient (B1):\", round (b1, 4))"
   ]
  },
  {
   "cell_type": "markdown",
   "metadata": {},
   "source": [
    "# Predict the 'quality' variable. Test the quality of fit using R-squared value"
   ]
  },
  {
   "cell_type": "code",
   "execution_count": 42,
   "metadata": {},
   "outputs": [
    {
     "name": "stdout",
     "output_type": "stream",
     "text": [
      "Test R-squared value 0.185\n"
     ]
    }
   ],
   "source": [
    "y_test[\"y_pred\"] = pd.DataFrame (b0 + b1 * x_test['alcohol'])\n",
    "R_sqrd = 1 - (sum ((y_test['quality'] - y_test['y_pred'])**2) / sum ((y_test['quality'] - mean (y_test['quality']))**2))\n",
    "print (\"Test R-squared value\", round (R_sqrd, 4))"
   ]
  },
  {
   "cell_type": "markdown",
   "metadata": {},
   "source": [
    "* From the R-squared value, we can conclude that there is no strong relationship between 'quality' and 'alcohol' variables in the wine data, as R-squared is less than 0.7."
   ]
  }
 ],
 "metadata": {
  "kernelspec": {
   "display_name": "Python 3",
   "language": "python",
   "name": "python3"
  },
  "language_info": {
   "codemirror_mode": {
    "name": "ipython",
    "version": 3
   },
   "file_extension": ".py",
   "mimetype": "text/x-python",
   "name": "python",
   "nbconvert_exporter": "python",
   "pygments_lexer": "ipython3",
   "version": "3.7.0"
  }
 },
 "nbformat": 4,
 "nbformat_minor": 2
}
